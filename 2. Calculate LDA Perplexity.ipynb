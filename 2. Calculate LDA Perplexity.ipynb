{
 "cells": [
  {
   "cell_type": "code",
   "execution_count": 1,
   "metadata": {},
   "outputs": [
    {
     "name": "stderr",
     "output_type": "stream",
     "text": [
      "C:\\Python27\\lib\\site-packages\\gensim\\utils.py:860: UserWarning: detected Windows; aliasing chunkize to chunkize_serial\n",
      "  warnings.warn(\"detected Windows; aliasing chunkize to chunkize_serial\")\n"
     ]
    }
   ],
   "source": [
    "%matplotlib inline\n",
    "from gensim import corpora, models, similarities\n",
    "import gensim\n",
    "import logging\n",
    "import string\n",
    "import os\n",
    "import numpy as np\n",
    "import numpy\n",
    "import pickle\n",
    "from gensim.models.coherencemodel import CoherenceModel"
   ]
  },
  {
   "cell_type": "code",
   "execution_count": 2,
   "metadata": {
    "collapsed": true
   },
   "outputs": [],
   "source": [
    "with open(\"corp.cor\") as cp: \n",
    "    corp = pickle.load(cp)\n",
    "with open(\"sentances.sent\") as sent: \n",
    "    sentances = pickle.load(sent)\n",
    "    \n",
    "dictionary = gensim.corpora.dictionary.Dictionary.load(\"Dicktionary\")"
   ]
  },
  {
   "cell_type": "code",
   "execution_count": 3,
   "metadata": {},
   "outputs": [
    {
     "name": "stdout",
     "output_type": "stream",
     "text": [
      "processing 1\n",
      "-25306441.9092\n",
      "-1.1649838164\n",
      "processing 2\n",
      "-24237602.5911\n",
      "-1.25285733444\n",
      "processing 3\n",
      "-24084221.6295\n",
      "-1.50293179065\n",
      "processing 4\n",
      "-23642653.741\n",
      "-0.940889888875\n",
      "processing 5\n",
      "-23788435.469\n",
      "-1.34687386732\n",
      "processing 6\n",
      "-23525356.3927\n",
      "-0.971029909658\n",
      "processing 7\n",
      "-23515107.6094\n",
      "-1.48237232873\n",
      "processing 8\n",
      "-23505023.2624\n",
      "-1.43589885502\n",
      "processing 9\n",
      "-23532850.5349\n",
      "-1.72708487896\n",
      "processing 10\n",
      "-23518529.3457\n",
      "-1.68488514793\n",
      "processing 11\n",
      "-23522144.1397\n",
      "-1.63870730577\n",
      "processing 12\n",
      "-23535279.3588\n",
      "-2.32992835414\n",
      "processing 13\n",
      "-23595015.858\n",
      "-2.45408636407\n",
      "processing 14\n",
      "-23497595.2057\n",
      "-1.99575166617\n",
      "processing 15\n",
      "-23634799.3537\n",
      "-2.46230304882\n",
      "processing 16\n",
      "-23630681.9766\n",
      "-2.45818919123\n",
      "processing 17\n",
      "-23542642.0186\n",
      "-2.30132991996\n",
      "processing 18\n",
      "-23603094.7047\n",
      "-2.4814948521\n",
      "processing 19\n",
      "-23597348.5678\n",
      "-2.32335619751\n"
     ]
    }
   ],
   "source": [
    "start = 1\n",
    "stop = 20\n",
    "jump = 1\n",
    "\n",
    "perplex = {}\n",
    "coher = {}\n",
    "\n",
    "try:\n",
    "    for x in range(start, stop, jump): \n",
    "        print \"processing {}\".format(x)\n",
    "\n",
    "        lda = gensim.models.ldamodel.LdaModel.load(\"data2lda{}.lda\".format(x))\n",
    "\n",
    "        cm = CoherenceModel(model=lda, corpus = corp, dictionary=dictionary, coherence = \"u_mass\")\n",
    "        coherence = cm.get_coherence()\n",
    "\n",
    "        perplexity = lda.bound(corp)\n",
    "\n",
    "#         print perplexity\n",
    "        perplex[x] = perplexity\n",
    "#         print coherence\n",
    "        coher[x] = coherence\n",
    "except: \n",
    "    print \"failed\""
   ]
  },
  {
   "cell_type": "code",
   "execution_count": 4,
   "metadata": {},
   "outputs": [
    {
     "name": "stdout",
     "output_type": "stream",
     "text": [
      "         Coherence    Perplexity\n",
      "Cluster                         \n",
      "1        -1.164984 -2.530644e+07\n",
      "2        -1.252857 -2.423760e+07\n",
      "3        -1.502932 -2.408422e+07\n",
      "4        -0.940890 -2.364265e+07\n",
      "5        -1.346874 -2.378844e+07\n",
      "6        -0.971030 -2.352536e+07\n",
      "7        -1.482372 -2.351511e+07\n",
      "8        -1.435899 -2.350502e+07\n",
      "9        -1.727085 -2.353285e+07\n",
      "10       -1.684885 -2.351853e+07\n",
      "11       -1.638707 -2.352214e+07\n",
      "12       -2.329928 -2.353528e+07\n",
      "13       -2.454086 -2.359502e+07\n",
      "14       -1.995752 -2.349760e+07\n",
      "15       -2.462303 -2.363480e+07\n",
      "16       -2.458189 -2.363068e+07\n",
      "17       -2.301330 -2.354264e+07\n",
      "18       -2.481495 -2.360309e+07\n",
      "19       -2.323356 -2.359735e+07\n"
     ]
    },
    {
     "data": {
      "text/plain": [
       "<matplotlib.axes._subplots.AxesSubplot at 0x130c4730>"
      ]
     },
     "execution_count": 4,
     "metadata": {},
     "output_type": "execute_result"
    },
    {
     "data": {
      "image/png": "[encoded data removed]",
      "text/plain": [
       "<matplotlib.figure.Figure at 0x2d731070>"
      ]
     },
     "metadata": {},
     "output_type": "display_data"
    }
   ],
   "source": [
    "import pandas as pd\n",
    "\n",
    "df = pd.DataFrame([x for x in perplex])\n",
    "\n",
    "\n",
    "\n",
    "df[\"Coherence\"] = [coher[x] for x in coher]\n",
    "df[\"Perplexity\"] = [perplex[x] for x in perplex]\n",
    "\n",
    "df.columns = [\"Cluster\", \"Coherence\", \"Perplexity\"]\n",
    "\n",
    "df = df.set_index([\"Cluster\"])\n",
    "\n",
    "df = df.sort_index()\n",
    "print df\n",
    "\n",
    "# df[\"Coherence\"].plot()\n",
    "df[\"Perplexity\"].plot()"
   ]
  },
  {
   "cell_type": "code",
   "execution_count": 6,
   "metadata": {},
   "outputs": [
    {
     "data": {
      "text/plain": [
       "<matplotlib.axes._subplots.AxesSubplot at 0x1c9dce50>"
      ]
     },
     "execution_count": 6,
     "metadata": {},
     "output_type": "execute_result"
    },
    {
     "data": {
      "image/png": "[encoded data removed]",
      "text/plain": [
       "<matplotlib.figure.Figure at 0x27092cb0>"
      ]
     },
     "metadata": {},
     "output_type": "display_data"
    }
   ],
   "source": [
    "import matplotlib.pyplot as plt\n",
    "\n",
    "fig, ax = plt.subplots()\n",
    "ax3 = ax.twinx()\n",
    "rspine = ax3.spines['right']\n",
    "rspine.set_position(('axes', 1.15))\n",
    "ax3.set_frame_on(True)\n",
    "# ax3.patch.set_visible(False)\n",
    "fig.subplots_adjust(right=0.7)\n",
    "\n",
    "df[\"Perplexity\"].plot(ax=ax, style='b-')\n",
    "# same ax as above since it's automatically added on the right\n",
    "df[\"Coherence\"].plot(ax=ax, style='r-', secondary_y=True)\n",
    "\n"
   ]
  }
 ],
 "metadata": {
  "kernelspec": {
   "display_name": "Python 3",
   "language": "python",
   "name": "python3"
  },
  "language_info": {
   "codemirror_mode": {
    "name": "ipython",
    "version": 3
   },
   "file_extension": ".py",
   "mimetype": "text/x-python",
   "name": "python",
   "nbconvert_exporter": "python",
   "pygments_lexer": "ipython3",
   "version": "3.6.4"
  }
 },
 "nbformat": 4,
 "nbformat_minor": 2
}
