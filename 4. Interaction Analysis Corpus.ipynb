{
 "cells": [
  {
   "cell_type": "markdown",
   "metadata": {},
   "source": [
    "# Aims\n",
    "\n",
    "* To identify what topics are shared in the documents\n",
    "    * most similar\n",
    "    * most dissimilar\n",
    "* To plot the similarity matrix\n",
    "* To have this as a template to feed in model and corpus"
   ]
  },
  {
   "cell_type": "code",
   "execution_count": null,
   "metadata": {},
   "outputs": [],
   "source": [
    "from gensim import corpora, models, similarities\n",
    "import gensim\n",
    "import logging\n",
    "import stop_words\n",
    "import nltk\n",
    "import string\n",
    "import os\n",
    "from nltk.stem import WordNetLemmatizer\n",
    "import numpy as np\n",
    "import numpy\n",
    "import pickle\n",
    "from operator import itemgetter\n",
    "import pandas as pd\n",
    "\n",
    "logging.basicConfig(format='%(asctime)s : %(levelname)s : %(message)s', level=logging.INFO)\n",
    "\n",
    "# wordnet_lemmatizer = WordNetLemmatizer()"
   ]
  },
  {
   "cell_type": "code",
   "execution_count": null,
   "metadata": {},
   "outputs": [],
   "source": [
    "lda = gensim.models.ldamodel.LdaModel.load(\"data2lda10.lda\")\n",
    "# lda2 = gensim.models.ldamodel.LdaModel.load(\"data2lda200.lda\")\n",
    "# lda4 = gensim.models.ldamodel.LdaModel.load(\"data2lda400.lda\")\n",
    "with open(\"corp.cor\") as cp: \n",
    "    corp = pickle.load(cp)\n",
    "with open(\"sentances.sent\") as sent: \n",
    "    sentances = pickle.load(sent)\n",
    "dictionary = gensim.corpora.dictionary.Dictionary.load(\"Dicktionary\")"
   ]
  },
  {
   "cell_type": "code",
   "execution_count": null,
   "metadata": {
    "collapsed": true
   },
   "outputs": [],
   "source": [
    "def findTopics(query):\n",
    "    vec_bow = dictionary.doc2bow(query)\n",
    "    vec_lsi = lda.get_document_topics(vec_bow) # convert the query to LSI space\n",
    "#     sims = sim_index[vec_lsi]\n",
    "    vec_lsi = [list(x) for x in vec_lsi]\n",
    "#     print vec_lsi\n",
    "#     vec_lsi = vec_lsi.sort(key=itemgetter[1])\n",
    "    return(vec_lsi) # print sorted (document number, similarity score) 2-tuples\n",
    "    "
   ]
  },
  {
   "cell_type": "markdown",
   "metadata": {},
   "source": [
    "THis is a % similarity... however, I want to implement a jaccard similairty to get a legit methodology. \n",
    "\n",
    "Looks like you take a binary ... wait. No, I dont understand it. "
   ]
  },
  {
   "cell_type": "code",
   "execution_count": null,
   "metadata": {},
   "outputs": [],
   "source": [
    "topics_freqdist = []\n",
    "\n",
    "for item in sentances: \n",
    "    try:\n",
    "        ass_topic = findTopics(item)\n",
    "        ass_topic.sort(key=itemgetter(1), reverse = True)\n",
    "#         ass_topic = ass_topic[0][0]\n",
    "        print ass_topic\n",
    "#         print ass_topic\n",
    "        topics_freqdist.append(ass_topic)\n",
    "#         print \"\"\n",
    "    except Exception, e: \n",
    "        print e\n",
    "    \n",
    "\n",
    "# print topics_freqdist"
   ]
  },
  {
   "cell_type": "code",
   "execution_count": null,
   "metadata": {
    "scrolled": false
   },
   "outputs": [],
   "source": [
    "sim_dict = {}\n",
    "for doc in topics_freqdist: \n",
    "    for topic in doc: \n",
    "        if topic[0] not in sim_dict: \n",
    "            sim_dict[topic[0]] = {}\n",
    "        for related_topic in doc:\n",
    "            if related_topic[0] not in sim_dict[topic[0]]: \n",
    "                sim_dict[topic[0]][related_topic[0]] = related_topic[1]\n",
    "            else:\n",
    "                sim_dict[topic[0]][related_topic[0]] += related_topic[1]\n",
    "                \n",
    "for topic in sim_dict: \n",
    "    for related_topic in sim_dict[topic]: \n",
    "        sim_dict[topic][related_topic] = sim_dict[topic][related_topic]/float(len(topics_freqdist))\n",
    "                \n",
    "# for item in sim_dict:\n",
    "#     print item, sim_dict[item]"
   ]
  },
  {
   "cell_type": "code",
   "execution_count": null,
   "metadata": {
    "scrolled": true
   },
   "outputs": [],
   "source": [
    "df = pd.DataFrame.from_dict(sim_dict).T.fillna(0)\n",
    "\n",
    "print df"
   ]
  },
  {
   "cell_type": "code",
   "execution_count": null,
   "metadata": {},
   "outputs": [],
   "source": [
    "import matplotlib.pyplot as plt\n",
    "\n",
    "plt.imshow(df, cmap = \"hot\", interpolation = \"nearest\")\n",
    "\n",
    "plt.show()"
   ]
  },
  {
   "cell_type": "code",
   "execution_count": null,
   "metadata": {
    "scrolled": false
   },
   "outputs": [],
   "source": [
    "import networkx as nx\n",
    "import graphviz\n",
    "\n",
    "df_stack = df.stack().reset_index().rename(columns = {\"level_0\": \"Node1\", \"level_1\": \"Node2\", 0: \"Similarity\"})\n",
    "\n",
    "mask = df_stack.Similarity < 0.04\n",
    "\n",
    "column_name = \"Similarity\"\n",
    "\n",
    "df_stack.loc[mask, column_name] = None\n",
    "\n",
    "df_stack = df_stack.dropna()\n",
    "\n",
    "# print df_stack\n",
    "\n",
    "network = nx.from_pandas_dataframe(df_stack, \"Node1\", \"Node2\", [\"Similarity\"])\n",
    "\n",
    "# colors=range(len(df_stack))\n",
    "\n",
    "nx.draw_networkx(network)\n",
    "\n",
    "\n",
    "plt.show()"
   ]
  },
  {
   "cell_type": "code",
   "execution_count": null,
   "metadata": {
    "collapsed": true
   },
   "outputs": [],
   "source": [
    "import networkx as nx\n",
    "import graphviz\n",
    "\n",
    "df_stack = df2.stack().reset_index().rename(columns = {\"level_0\": \"Node1\", \"level_1\": \"Node2\", 0: \"Similarity\"})\n",
    "\n",
    "mask = df_stack.Similarity < 0.04\n",
    "\n",
    "column_name = \"Similarity\"\n",
    "\n",
    "df_stack.loc[mask, column_name] = None\n",
    "\n",
    "df_stack = df_stack.dropna()\n",
    "\n",
    "# print df_stack\n",
    "\n",
    "network = nx.from_pandas_dataframe(df_stack, \"Node1\", \"Node2\", [\"Similarity\"])\n",
    "\n",
    "# colors=range(len(df_stack))\n",
    "\n",
    "nx.draw_networkx(network)\n",
    "\n",
    "\n",
    "plt.show()\n"
   ]
  },
  {
   "cell_type": "code",
   "execution_count": null,
   "metadata": {},
   "outputs": [],
   "source": [
    "topics_vis = lda.show_topics(20)\n",
    "\n",
    "topics_vis = sorted(topics_vis, key = itemgetter(0))\n",
    "\n",
    "# print topics_vis\n",
    "\n",
    "print len(topics_vis)"
   ]
  },
  {
   "cell_type": "code",
   "execution_count": null,
   "metadata": {
    "collapsed": true
   },
   "outputs": [],
   "source": [
    "from sklearn.cluster import SpectralClustering\n",
    "\n",
    "numpy_array = df.as_matrix()\n",
    "\n",
    "num_clusters = 3\n",
    "\n",
    "spectral = SpectralClustering(num_clusters).fit_predict(numpy_array)\n",
    "\n",
    "for second_topic_num in range(num_clusters):\n",
    "    print second_topic_num\n",
    "    for second_cluster, topic in zip(spectral, topics_vis):\n",
    "        if second_topic_num == second_cluster:\n",
    "            print topic\n",
    "    print \" \"\n",
    "    print \"\""
   ]
  },
  {
   "cell_type": "code",
   "execution_count": null,
   "metadata": {},
   "outputs": [],
   "source": [
    "import pyLDAvis.gensim\n",
    "\n",
    "pyLDAvis.enable_notebook()\n",
    "pyLDAvis.gensim.prepare(lda, corp, dictionary)"
   ]
  }
 ],
 "metadata": {
  "kernelspec": {
   "display_name": "Python 3",
   "language": "python",
   "name": "python3"
  },
  "language_info": {
   "codemirror_mode": {
    "name": "ipython",
    "version": 3
   },
   "file_extension": ".py",
   "mimetype": "text/x-python",
   "name": "python",
   "nbconvert_exporter": "python",
   "pygments_lexer": "ipython3",
   "version": "3.6.4"
  }
 },
 "nbformat": 4,
 "nbformat_minor": 2
}
